{
 "cells": [
  {
   "cell_type": "code",
   "execution_count": null,
   "metadata": {},
   "outputs": [],
   "source": [
    "elf_keywords = []\n",
    "\n",
    "men_keywords = []\n",
    "\n",
    "dwarf_keywords = []\n",
    "\n",
    "goblin_wolf_keywords = []\n",
    "\n",
    "ent_keywords = []\n",
    "\n",
    "hobbit_keywords = []\n",
    "\n",
    "troll_keywords = []\n",
    "\n",
    "orc_keywords = []\n",
    "\n",
    "wizard_keywords = []\n",
    "\n",
    "ringwraith_keywords = []\n",
    "\n",
    "elf, elves, elvish, legolas, thranduil, woodland realm, elvenking, mirkwood, elrond, galadriel, lothlorien, rivendell, grey havens, undying lands, glorfindel, arwen, celeborn, haldir\n",
    "\n",
    "men, race of men, man, aragorn, strider, elessar, boromir, denethor, faramir, eowyn, eomer, theoden, grima wormtongue, barliman butterbur, bard, girion, imrahil, isildur, anarion, elendil, arnor, rohan, riddermark, edoras, helm hammerhand, gamling, elfhelm, erkenbrand, helms deep, westfold, east emnet, eastfold, gondor, minas tirith, osgiliath, dol amroth, pelargir, bree, eriador, prancing pony, fornost, weathertop, amon sul, amon hen, lake town, esgaroth, dale, rangers of the north, ithilien, beornings, woodsman, hama, beregond, halbarad, hirgon, duinhir, forlong, damrod, mablung, dunharrow, harad, haradrim, umbar, cair andros, easterlings, numenor, numenoreans, eorl\n",
    "\n",
    "dwarf, gimli, gloin, thorin oakenshield, lonely mountain, erebor, dain, king under the mountain, arkenstone, iron hills, moria, khazad dum, dwarrowdelf, blue mountains, balin, dwalin, fili, kili, dori, nori, ori, oin, bifur, bofur, bombur, mithril, durins folk, mazarbul, azanulbizar, mirrormere, durin\n",
    "\n",
    "misty mountains, goblin town, goblin, goblins, the great goblin, wolf, warg, wolves, wargs, misty mountains, isengard\n",
    "\n",
    "ent, entwives, huorns, tree, trees, old man willow, quickbeam, beechbone, fangorn, forest, old forest, mirkwood, isengard, entmoot, march of the ents, entwives, skinbark, entish, leaflock, fladrif, finglas, branch, twig, leaf, leaves, wellinghall, mallorn, party tree, derndingle, greenwood, onodrim, entwash, entwife, methedras, treebeards hill\n",
    "\n",
    "hobbit \n",
    "\n",
    "troll \n",
    "\n",
    "orc \n",
    "\n",
    "wizard \n",
    "\n",
    "ringwraith \n"
   ]
  },
  {
   "cell_type": "markdown",
   "metadata": {},
   "source": [
    "Think I will remove apostrophes and other items of punctuation.\n",
    "Need to determine how and where sentences are broken."
   ]
  },
  {
   "cell_type": "markdown",
   "metadata": {},
   "source": []
  }
 ],
 "metadata": {
  "language_info": {
   "name": "python"
  }
 },
 "nbformat": 4,
 "nbformat_minor": 2
}
